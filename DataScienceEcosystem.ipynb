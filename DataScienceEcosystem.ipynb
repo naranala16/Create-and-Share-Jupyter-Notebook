{
 "cells": [
  {
   "cell_type": "markdown",
   "id": "dc1ac944",
   "metadata": {},
   "source": [
    "# Data Science Tools and Ecosystem"
   ]
  },
  {
   "cell_type": "markdown",
   "id": "5c58573a",
   "metadata": {},
   "source": [
    "# Introduction\n",
    "\n",
    "In this notebook, Data Science Tools and Ecosystem are summarized."
   ]
  },
  {
   "cell_type": "markdown",
   "id": "64b02d79",
   "metadata": {},
   "source": [
    "**Objective:**\n",
    "\n",
    "- List some of the popular languages that the Data Scientists use.\n",
    "- List some the commonly used libraries by DS.\n",
    "- Create a table with Data Science Tools.\n",
    "- Evaluate arithmatic expressions."
   ]
  },
  {
   "cell_type": "markdown",
   "id": "8dd1da68",
   "metadata": {},
   "source": [
    "Some of the popular languages that Data Scientists use are:\n",
    "\n",
    "1. Python\n",
    "2. R\n",
    "3. SQL\n",
    "4. Julia\n",
    "5. Java\n"
   ]
  },
  {
   "cell_type": "markdown",
   "id": "b444b581",
   "metadata": {},
   "source": [
    "Some of the commonly used libraries used by Data Scientists include:\n",
    "\n",
    "1. **NumPy** : For numerical computations and handling multi-dimentional arrays.\n",
    "2. **Pandas** : A library for data manipulation, analysis, and working with structured data.\n",
    "3. **Matplotlib** : A library for creating static, animated and interactive visualyzations.\n",
    "4. **Scikit-learn** :A Library for machine learning, including regression, classification and clustering. \n",
    "5. **TensorFlow** : For building and training machine learning and deep learning models. "
   ]
  },
  {
   "cell_type": "markdown",
   "id": "498e947e",
   "metadata": {},
   "source": [
    "| Data Science Tools |\n",
    "------------------------------\n",
    "| Jupyter Notebook          |\n",
    "| RStudio                   |\n",
    "| Apache Spark              |"
   ]
  },
  {
   "cell_type": "code",
   "execution_count": 4,
   "id": "39e5b094",
   "metadata": {},
   "outputs": [],
   "source": [
    "### Below are a few examples of evaluating arithmetic expressions in Python."
   ]
  },
  {
   "cell_type": "code",
   "execution_count": 5,
   "id": "854a5ba1",
   "metadata": {},
   "outputs": [
    {
     "data": {
      "text/plain": [
       "17"
      ]
     },
     "execution_count": 5,
     "metadata": {},
     "output_type": "execute_result"
    }
   ],
   "source": [
    "# This is a simple arithmatic expression to multiply then add integers\n",
    "result = (3 * 4) + 5\n",
    "result"
   ]
  },
  {
   "cell_type": "code",
   "execution_count": 6,
   "id": "af30ec09",
   "metadata": {},
   "outputs": [
    {
     "data": {
      "text/plain": [
       "3.3333333333333335"
      ]
     },
     "execution_count": 6,
     "metadata": {},
     "output_type": "execute_result"
    }
   ],
   "source": [
    "# This will convert 200 minutes to hours by diving by 60\n",
    "Hours = 200/60\n",
    "Hours"
   ]
  },
  {
   "cell_type": "markdown",
   "id": "48d5265f",
   "metadata": {},
   "source": [
    "## Author\n",
    "Bob Nalabothula"
   ]
  },
  {
   "cell_type": "code",
   "execution_count": null,
   "id": "2454bcc9",
   "metadata": {},
   "outputs": [],
   "source": []
  }
 ],
 "metadata": {
  "kernelspec": {
   "display_name": "Python 3 (ipykernel)",
   "language": "python",
   "name": "python3"
  },
  "language_info": {
   "codemirror_mode": {
    "name": "ipython",
    "version": 3
   },
   "file_extension": ".py",
   "mimetype": "text/x-python",
   "name": "python",
   "nbconvert_exporter": "python",
   "pygments_lexer": "ipython3",
   "version": "3.10.9"
  }
 },
 "nbformat": 4,
 "nbformat_minor": 5
}
